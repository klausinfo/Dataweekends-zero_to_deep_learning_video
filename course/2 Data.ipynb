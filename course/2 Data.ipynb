{
  "nbformat": 4,
  "nbformat_minor": 0,
  "metadata": {
    "kernelspec": {
      "display_name": "Python 3",
      "language": "python",
      "name": "python3"
    },
    "language_info": {
      "codemirror_mode": {
        "name": "ipython",
        "version": 3
      },
      "file_extension": ".py",
      "mimetype": "text/x-python",
      "name": "python",
      "nbconvert_exporter": "python",
      "pygments_lexer": "ipython3",
      "version": "3.5.3"
    },
    "colab": {
      "name": "2 Data.ipynb",
      "provenance": []
    }
  },
  "cells": [
    {
      "cell_type": "markdown",
      "metadata": {
        "id": "wCaMoIQmG853",
        "colab_type": "text"
      },
      "source": [
        "# Data Exploration with Pandas"
      ]
    },
    {
      "cell_type": "code",
      "metadata": {
        "id": "3vppj-kDG856",
        "colab_type": "code",
        "colab": {}
      },
      "source": [
        "%matplotlib inline\n",
        "import matplotlib.pyplot as plt\n",
        "import pandas as pd\n",
        "import numpy as np"
      ],
      "execution_count": 0,
      "outputs": []
    },
    {
      "cell_type": "code",
      "metadata": {
        "id": "uYhIP_Q0HGds",
        "colab_type": "code",
        "colab": {
          "base_uri": "https://localhost:8080/",
          "height": 35
        },
        "outputId": "e410f3d9-0c98-4171-e49d-984410e0dbe8"
      },
      "source": [
        "# Um Daten direkt zu laden\n",
        "!git clone https://github.com/Dataweekends/zero_to_deep_learning_video.git"
      ],
      "execution_count": 72,
      "outputs": [
        {
          "output_type": "stream",
          "text": [
            "fatal: destination path 'zero_to_deep_learning_video' already exists and is not an empty directory.\n"
          ],
          "name": "stdout"
        }
      ]
    },
    {
      "cell_type": "code",
      "metadata": {
        "id": "l0Gtw6fsG86F",
        "colab_type": "code",
        "colab": {}
      },
      "source": [
        "df = pd.read_csv('zero_to_deep_learning_video/data/titanic-train.csv')"
      ],
      "execution_count": 0,
      "outputs": []
    },
    {
      "cell_type": "code",
      "metadata": {
        "id": "wgsFiehkG86L",
        "colab_type": "code",
        "colab": {
          "base_uri": "https://localhost:8080/",
          "height": 35
        },
        "outputId": "b473c02e-9630-479d-df61-ef9389dd1edb"
      },
      "source": [
        "type(df)"
      ],
      "execution_count": 74,
      "outputs": [
        {
          "output_type": "execute_result",
          "data": {
            "text/plain": [
              "pandas.core.frame.DataFrame"
            ]
          },
          "metadata": {
            "tags": []
          },
          "execution_count": 74
        }
      ]
    },
    {
      "cell_type": "code",
      "metadata": {
        "id": "d9pufjUPG86S",
        "colab_type": "code",
        "colab": {
          "base_uri": "https://localhost:8080/",
          "height": 206
        },
        "outputId": "79ab000b-2253-4e66-a6d6-6c57961a6ab5"
      },
      "source": [
        "df.head()"
      ],
      "execution_count": 75,
      "outputs": [
        {
          "output_type": "execute_result",
          "data": {
            "text/html": [
              "<div>\n",
              "<style scoped>\n",
              "    .dataframe tbody tr th:only-of-type {\n",
              "        vertical-align: middle;\n",
              "    }\n",
              "\n",
              "    .dataframe tbody tr th {\n",
              "        vertical-align: top;\n",
              "    }\n",
              "\n",
              "    .dataframe thead th {\n",
              "        text-align: right;\n",
              "    }\n",
              "</style>\n",
              "<table border=\"1\" class=\"dataframe\">\n",
              "  <thead>\n",
              "    <tr style=\"text-align: right;\">\n",
              "      <th></th>\n",
              "      <th>PassengerId</th>\n",
              "      <th>Survived</th>\n",
              "      <th>Pclass</th>\n",
              "      <th>Name</th>\n",
              "      <th>Sex</th>\n",
              "      <th>Age</th>\n",
              "      <th>SibSp</th>\n",
              "      <th>Parch</th>\n",
              "      <th>Ticket</th>\n",
              "      <th>Fare</th>\n",
              "      <th>Cabin</th>\n",
              "      <th>Embarked</th>\n",
              "    </tr>\n",
              "  </thead>\n",
              "  <tbody>\n",
              "    <tr>\n",
              "      <th>0</th>\n",
              "      <td>1</td>\n",
              "      <td>0</td>\n",
              "      <td>3</td>\n",
              "      <td>Braund, Mr. Owen Harris</td>\n",
              "      <td>male</td>\n",
              "      <td>22.0</td>\n",
              "      <td>1</td>\n",
              "      <td>0</td>\n",
              "      <td>A/5 21171</td>\n",
              "      <td>7.2500</td>\n",
              "      <td>NaN</td>\n",
              "      <td>S</td>\n",
              "    </tr>\n",
              "    <tr>\n",
              "      <th>1</th>\n",
              "      <td>2</td>\n",
              "      <td>1</td>\n",
              "      <td>1</td>\n",
              "      <td>Cumings, Mrs. John Bradley (Florence Briggs Th...</td>\n",
              "      <td>female</td>\n",
              "      <td>38.0</td>\n",
              "      <td>1</td>\n",
              "      <td>0</td>\n",
              "      <td>PC 17599</td>\n",
              "      <td>71.2833</td>\n",
              "      <td>C85</td>\n",
              "      <td>C</td>\n",
              "    </tr>\n",
              "    <tr>\n",
              "      <th>2</th>\n",
              "      <td>3</td>\n",
              "      <td>1</td>\n",
              "      <td>3</td>\n",
              "      <td>Heikkinen, Miss. Laina</td>\n",
              "      <td>female</td>\n",
              "      <td>26.0</td>\n",
              "      <td>0</td>\n",
              "      <td>0</td>\n",
              "      <td>STON/O2. 3101282</td>\n",
              "      <td>7.9250</td>\n",
              "      <td>NaN</td>\n",
              "      <td>S</td>\n",
              "    </tr>\n",
              "    <tr>\n",
              "      <th>3</th>\n",
              "      <td>4</td>\n",
              "      <td>1</td>\n",
              "      <td>1</td>\n",
              "      <td>Futrelle, Mrs. Jacques Heath (Lily May Peel)</td>\n",
              "      <td>female</td>\n",
              "      <td>35.0</td>\n",
              "      <td>1</td>\n",
              "      <td>0</td>\n",
              "      <td>113803</td>\n",
              "      <td>53.1000</td>\n",
              "      <td>C123</td>\n",
              "      <td>S</td>\n",
              "    </tr>\n",
              "    <tr>\n",
              "      <th>4</th>\n",
              "      <td>5</td>\n",
              "      <td>0</td>\n",
              "      <td>3</td>\n",
              "      <td>Allen, Mr. William Henry</td>\n",
              "      <td>male</td>\n",
              "      <td>35.0</td>\n",
              "      <td>0</td>\n",
              "      <td>0</td>\n",
              "      <td>373450</td>\n",
              "      <td>8.0500</td>\n",
              "      <td>NaN</td>\n",
              "      <td>S</td>\n",
              "    </tr>\n",
              "  </tbody>\n",
              "</table>\n",
              "</div>"
            ],
            "text/plain": [
              "   PassengerId  Survived  Pclass  ...     Fare Cabin  Embarked\n",
              "0            1         0       3  ...   7.2500   NaN         S\n",
              "1            2         1       1  ...  71.2833   C85         C\n",
              "2            3         1       3  ...   7.9250   NaN         S\n",
              "3            4         1       1  ...  53.1000  C123         S\n",
              "4            5         0       3  ...   8.0500   NaN         S\n",
              "\n",
              "[5 rows x 12 columns]"
            ]
          },
          "metadata": {
            "tags": []
          },
          "execution_count": 75
        }
      ]
    },
    {
      "cell_type": "code",
      "metadata": {
        "id": "3mUpFS0HG86X",
        "colab_type": "code",
        "colab": {}
      },
      "source": [
        "df.info()"
      ],
      "execution_count": 0,
      "outputs": []
    },
    {
      "cell_type": "code",
      "metadata": {
        "id": "s8XtX1hfG86b",
        "colab_type": "code",
        "colab": {}
      },
      "source": [
        "df.describe()"
      ],
      "execution_count": 0,
      "outputs": []
    },
    {
      "cell_type": "markdown",
      "metadata": {
        "id": "GXBWcg1OG86h",
        "colab_type": "text"
      },
      "source": [
        "### Indexing"
      ]
    },
    {
      "cell_type": "code",
      "metadata": {
        "id": "O6AcNsjUG86i",
        "colab_type": "code",
        "colab": {}
      },
      "source": [
        "df.iloc[3]"
      ],
      "execution_count": 0,
      "outputs": []
    },
    {
      "cell_type": "code",
      "metadata": {
        "id": "o5ZXN42vG86m",
        "colab_type": "code",
        "colab": {}
      },
      "source": [
        "df.loc[0:4,'Ticket']"
      ],
      "execution_count": 0,
      "outputs": []
    },
    {
      "cell_type": "code",
      "metadata": {
        "id": "lTMkl8YvG86q",
        "colab_type": "code",
        "colab": {}
      },
      "source": [
        "df['Ticket'].head()"
      ],
      "execution_count": 0,
      "outputs": []
    },
    {
      "cell_type": "code",
      "metadata": {
        "id": "X6crRz32G86w",
        "colab_type": "code",
        "colab": {}
      },
      "source": [
        "df[['Embarked', 'Ticket']].head()"
      ],
      "execution_count": 0,
      "outputs": []
    },
    {
      "cell_type": "markdown",
      "metadata": {
        "id": "DP7wA_bmG861",
        "colab_type": "text"
      },
      "source": [
        "### Selections"
      ]
    },
    {
      "cell_type": "code",
      "metadata": {
        "id": "ZP_vAegrG861",
        "colab_type": "code",
        "colab": {}
      },
      "source": [
        "df[df['Age'] > 70]"
      ],
      "execution_count": 0,
      "outputs": []
    },
    {
      "cell_type": "code",
      "metadata": {
        "id": "r1BvVGduG865",
        "colab_type": "code",
        "colab": {}
      },
      "source": [
        "df['Age'] > 70"
      ],
      "execution_count": 0,
      "outputs": []
    },
    {
      "cell_type": "code",
      "metadata": {
        "id": "1r3A1PzrG869",
        "colab_type": "code",
        "colab": {}
      },
      "source": [
        "df.query(\"Age > 70\")"
      ],
      "execution_count": 0,
      "outputs": []
    },
    {
      "cell_type": "code",
      "metadata": {
        "id": "4wnhl37iG87C",
        "colab_type": "code",
        "colab": {}
      },
      "source": [
        "df[(df['Age'] == 11) & (df['SibSp'] == 5)]"
      ],
      "execution_count": 0,
      "outputs": []
    },
    {
      "cell_type": "code",
      "metadata": {
        "id": "B_J7g0UeG87F",
        "colab_type": "code",
        "colab": {}
      },
      "source": [
        "df[(df.Age == 11) | (df.SibSp == 5)]"
      ],
      "execution_count": 0,
      "outputs": []
    },
    {
      "cell_type": "code",
      "metadata": {
        "id": "FWK9AJx6G87I",
        "colab_type": "code",
        "colab": {}
      },
      "source": [
        "df.query('(Age == 11) | (SibSp == 5)')"
      ],
      "execution_count": 0,
      "outputs": []
    },
    {
      "cell_type": "markdown",
      "metadata": {
        "id": "v6nrqiVRG87M",
        "colab_type": "text"
      },
      "source": [
        "### Unique Values"
      ]
    },
    {
      "cell_type": "code",
      "metadata": {
        "id": "3t3EogviG87N",
        "colab_type": "code",
        "colab": {}
      },
      "source": [
        "df['Embarked'].unique()"
      ],
      "execution_count": 0,
      "outputs": []
    },
    {
      "cell_type": "markdown",
      "metadata": {
        "id": "OZ-4i2kiG87Q",
        "colab_type": "text"
      },
      "source": [
        "### Sorting"
      ]
    },
    {
      "cell_type": "code",
      "metadata": {
        "id": "tuNDy6-mG87S",
        "colab_type": "code",
        "colab": {}
      },
      "source": [
        "df.sort_values('Age', ascending = False).head()"
      ],
      "execution_count": 0,
      "outputs": []
    },
    {
      "cell_type": "markdown",
      "metadata": {
        "id": "i0BbEQOPG87V",
        "colab_type": "text"
      },
      "source": [
        "### Aggregations"
      ]
    },
    {
      "cell_type": "code",
      "metadata": {
        "id": "IAuULmiFG87W",
        "colab_type": "code",
        "colab": {}
      },
      "source": [
        "df['Survived'].value_counts()"
      ],
      "execution_count": 0,
      "outputs": []
    },
    {
      "cell_type": "code",
      "metadata": {
        "id": "uZQhYSHYG87Z",
        "colab_type": "code",
        "colab": {}
      },
      "source": [
        "df['Pclass'].value_counts()"
      ],
      "execution_count": 0,
      "outputs": []
    },
    {
      "cell_type": "code",
      "metadata": {
        "id": "U8VoX4ojG87d",
        "colab_type": "code",
        "colab": {}
      },
      "source": [
        "df.groupby(['Pclass', 'Survived'])['PassengerId'].count()"
      ],
      "execution_count": 0,
      "outputs": []
    },
    {
      "cell_type": "code",
      "metadata": {
        "id": "29j9hbI6G87f",
        "colab_type": "code",
        "colab": {}
      },
      "source": [
        "df['Age'].min()"
      ],
      "execution_count": 0,
      "outputs": []
    },
    {
      "cell_type": "code",
      "metadata": {
        "id": "Ygirti-oG87k",
        "colab_type": "code",
        "colab": {}
      },
      "source": [
        "df['Age'].max()"
      ],
      "execution_count": 0,
      "outputs": []
    },
    {
      "cell_type": "code",
      "metadata": {
        "id": "lIA7OdZ-G87n",
        "colab_type": "code",
        "colab": {}
      },
      "source": [
        "df['Age'].mean()"
      ],
      "execution_count": 0,
      "outputs": []
    },
    {
      "cell_type": "code",
      "metadata": {
        "id": "3jysB1k0G87q",
        "colab_type": "code",
        "colab": {}
      },
      "source": [
        "df['Age'].median()"
      ],
      "execution_count": 0,
      "outputs": []
    },
    {
      "cell_type": "code",
      "metadata": {
        "id": "rIsBbkW3G87s",
        "colab_type": "code",
        "colab": {}
      },
      "source": [
        "mean_age_by_survived = df.groupby('Survived')['Age'].mean()\n",
        "mean_age_by_survived"
      ],
      "execution_count": 0,
      "outputs": []
    },
    {
      "cell_type": "code",
      "metadata": {
        "id": "mIdp59meG87u",
        "colab_type": "code",
        "colab": {}
      },
      "source": [
        "std_age_by_survived = df.groupby('Survived')['Age'].std()\n",
        "std_age_by_survived"
      ],
      "execution_count": 0,
      "outputs": []
    },
    {
      "cell_type": "markdown",
      "metadata": {
        "id": "ctKdCYUfG87z",
        "colab_type": "text"
      },
      "source": [
        "### Merge"
      ]
    },
    {
      "cell_type": "code",
      "metadata": {
        "collapsed": true,
        "id": "9ngjfRP9G870",
        "colab_type": "code",
        "colab": {}
      },
      "source": [
        "df1 = mean_age_by_survived.round(0).reset_index()\n",
        "df2 = std_age_by_survived.round(0).reset_index()"
      ],
      "execution_count": 0,
      "outputs": []
    },
    {
      "cell_type": "code",
      "metadata": {
        "id": "m50mvvXlG872",
        "colab_type": "code",
        "colab": {}
      },
      "source": [
        "df1"
      ],
      "execution_count": 0,
      "outputs": []
    },
    {
      "cell_type": "code",
      "metadata": {
        "id": "hPNiNo74G874",
        "colab_type": "code",
        "colab": {}
      },
      "source": [
        "df2"
      ],
      "execution_count": 0,
      "outputs": []
    },
    {
      "cell_type": "code",
      "metadata": {
        "collapsed": true,
        "id": "ceZpcbp4G876",
        "colab_type": "code",
        "colab": {}
      },
      "source": [
        "df3 = pd.merge(df1, df2, on='Survived')"
      ],
      "execution_count": 0,
      "outputs": []
    },
    {
      "cell_type": "code",
      "metadata": {
        "id": "XWkQRTK5G878",
        "colab_type": "code",
        "colab": {}
      },
      "source": [
        "df3"
      ],
      "execution_count": 0,
      "outputs": []
    },
    {
      "cell_type": "code",
      "metadata": {
        "collapsed": true,
        "id": "0f1LBP4SG87-",
        "colab_type": "code",
        "colab": {}
      },
      "source": [
        "df3.columns = ['Survived', 'Average Age', 'Age Standard Deviation']"
      ],
      "execution_count": 0,
      "outputs": []
    },
    {
      "cell_type": "code",
      "metadata": {
        "id": "0x7ns9mYG88A",
        "colab_type": "code",
        "colab": {}
      },
      "source": [
        "df3"
      ],
      "execution_count": 0,
      "outputs": []
    },
    {
      "cell_type": "markdown",
      "metadata": {
        "id": "KURR6FhtG88C",
        "colab_type": "text"
      },
      "source": [
        "### Pivot Tables"
      ]
    },
    {
      "cell_type": "code",
      "metadata": {
        "id": "4ABH0JKrG88C",
        "colab_type": "code",
        "colab": {}
      },
      "source": [
        "df.pivot_table(index='Pclass',\n",
        "               columns='Survived',\n",
        "               values='PassengerId',\n",
        "               aggfunc='count')"
      ],
      "execution_count": 0,
      "outputs": []
    },
    {
      "cell_type": "markdown",
      "metadata": {
        "id": "s-TuwXT0G88F",
        "colab_type": "text"
      },
      "source": [
        "### Correlations"
      ]
    },
    {
      "cell_type": "code",
      "metadata": {
        "collapsed": true,
        "id": "ttaqooc0G88F",
        "colab_type": "code",
        "colab": {}
      },
      "source": [
        "df['IsFemale'] = df['Sex'] == 'female'"
      ],
      "execution_count": 0,
      "outputs": []
    },
    {
      "cell_type": "code",
      "metadata": {
        "id": "iZdvD-RcG88P",
        "colab_type": "code",
        "colab": {}
      },
      "source": [
        "correlated_with_survived = df.corr()['Survived'].sort_values()\n",
        "correlated_with_survived"
      ],
      "execution_count": 0,
      "outputs": []
    },
    {
      "cell_type": "code",
      "metadata": {
        "collapsed": true,
        "id": "x8Hze1r8G88S",
        "colab_type": "code",
        "colab": {}
      },
      "source": [
        "%matplotlib inline"
      ],
      "execution_count": 0,
      "outputs": []
    },
    {
      "cell_type": "code",
      "metadata": {
        "id": "JxSkxYRsG88W",
        "colab_type": "code",
        "colab": {}
      },
      "source": [
        "correlated_with_survived.iloc[:-1].plot(kind='bar',\n",
        "                                        title='Titanic Passengers: correlation with survival')"
      ],
      "execution_count": 0,
      "outputs": []
    },
    {
      "cell_type": "markdown",
      "metadata": {
        "id": "YVWcmuiRG88Y",
        "colab_type": "text"
      },
      "source": [
        "# Visual Data Exploration with Matplotlib"
      ]
    },
    {
      "cell_type": "code",
      "metadata": {
        "id": "pDsm0bpxG88Z",
        "colab_type": "code",
        "colab": {}
      },
      "source": [
        "data1 = np.random.normal(0, 0.1, 1000)\n",
        "data2 = np.random.normal(1, 0.4, 1000) + np.linspace(0, 1, 1000)\n",
        "data3 = 2 + np.random.random(1000) * np.linspace(1, 5, 1000)\n",
        "data4 = np.random.normal(3, 0.2, 1000) + 0.3 * np.sin(np.linspace(0, 20, 1000))"
      ],
      "execution_count": 0,
      "outputs": []
    },
    {
      "cell_type": "code",
      "metadata": {
        "id": "S4QxBhXtG88b",
        "colab_type": "code",
        "colab": {}
      },
      "source": [
        "data = np.vstack([data1, data2, data3, data4]).transpose()"
      ],
      "execution_count": 0,
      "outputs": []
    },
    {
      "cell_type": "code",
      "metadata": {
        "id": "aOP-OmOGG88d",
        "colab_type": "code",
        "colab": {}
      },
      "source": [
        "df = pd.DataFrame(data, columns=['data1', 'data2', 'data3', 'data4'])\n",
        "df.head()"
      ],
      "execution_count": 0,
      "outputs": []
    },
    {
      "cell_type": "markdown",
      "metadata": {
        "id": "ni2Awf-lG88g",
        "colab_type": "text"
      },
      "source": [
        "### Line Plot"
      ]
    },
    {
      "cell_type": "code",
      "metadata": {
        "id": "0K4zpSEkG88h",
        "colab_type": "code",
        "colab": {}
      },
      "source": [
        "df.plot(title='Line plot')"
      ],
      "execution_count": 0,
      "outputs": []
    },
    {
      "cell_type": "code",
      "metadata": {
        "id": "96nW1WJHG88i",
        "colab_type": "code",
        "colab": {}
      },
      "source": [
        "plt.plot(df)\n",
        "plt.title('Line plot')\n",
        "plt.legend(['data1', 'data2', 'data3', 'data4'])"
      ],
      "execution_count": 0,
      "outputs": []
    },
    {
      "cell_type": "markdown",
      "metadata": {
        "id": "okUUxd6-G88l",
        "colab_type": "text"
      },
      "source": [
        "### Scatter Plot"
      ]
    },
    {
      "cell_type": "code",
      "metadata": {
        "id": "vgSaQItlG88m",
        "colab_type": "code",
        "colab": {}
      },
      "source": [
        "df.plot(style='.')"
      ],
      "execution_count": 0,
      "outputs": []
    },
    {
      "cell_type": "code",
      "metadata": {
        "id": "yW2mewTbG88n",
        "colab_type": "code",
        "colab": {}
      },
      "source": [
        "_ = df.plot(kind='scatter', x='data1', y='data2',\n",
        "            xlim=(-1.5, 1.5), ylim=(0, 3))"
      ],
      "execution_count": 0,
      "outputs": []
    },
    {
      "cell_type": "markdown",
      "metadata": {
        "id": "e4N5abRmG88p",
        "colab_type": "text"
      },
      "source": [
        "### Histograms"
      ]
    },
    {
      "cell_type": "code",
      "metadata": {
        "id": "p9pjzfleG88p",
        "colab_type": "code",
        "colab": {}
      },
      "source": [
        "df.plot(kind='hist',\n",
        "        bins=50,\n",
        "        title='Histogram',\n",
        "        alpha=0.6)"
      ],
      "execution_count": 0,
      "outputs": []
    },
    {
      "cell_type": "markdown",
      "metadata": {
        "id": "sYiqTXlsG88r",
        "colab_type": "text"
      },
      "source": [
        "### Cumulative distribution"
      ]
    },
    {
      "cell_type": "code",
      "metadata": {
        "id": "3HJq4ZpYG88s",
        "colab_type": "code",
        "colab": {}
      },
      "source": [
        "df.plot(kind='hist',\n",
        "        bins=100,\n",
        "        title='Cumulative distributions',\n",
        "        normed=True,\n",
        "        cumulative=True,\n",
        "        alpha=0.4)"
      ],
      "execution_count": 0,
      "outputs": []
    },
    {
      "cell_type": "markdown",
      "metadata": {
        "id": "HFEB-MbHG88t",
        "colab_type": "text"
      },
      "source": [
        "### Box Plot"
      ]
    },
    {
      "cell_type": "code",
      "metadata": {
        "id": "IWkz62lFG88t",
        "colab_type": "code",
        "colab": {}
      },
      "source": [
        "df.plot(kind='box',\n",
        "        title='Boxplot')"
      ],
      "execution_count": 0,
      "outputs": []
    },
    {
      "cell_type": "markdown",
      "metadata": {
        "id": "qC8RrQPpG88u",
        "colab_type": "text"
      },
      "source": [
        "### Subplots"
      ]
    },
    {
      "cell_type": "code",
      "metadata": {
        "id": "J4wfItCMG88v",
        "colab_type": "code",
        "colab": {}
      },
      "source": [
        "fig, ax = plt.subplots(2, 2, figsize=(5, 5))\n",
        "\n",
        "df.plot(ax=ax[0][0],\n",
        "        title='Line plot')\n",
        "\n",
        "df.plot(ax=ax[0][1],\n",
        "        style='o',\n",
        "        title='Scatter plot')\n",
        "\n",
        "df.plot(ax=ax[1][0],\n",
        "        kind='hist',\n",
        "        bins=50,\n",
        "        title='Histogram')\n",
        "\n",
        "df.plot(ax=ax[1][1],\n",
        "        kind='box',\n",
        "        title='Boxplot')\n",
        "\n",
        "plt.tight_layout()"
      ],
      "execution_count": 0,
      "outputs": []
    },
    {
      "cell_type": "markdown",
      "metadata": {
        "id": "0lTX-y8WG88x",
        "colab_type": "text"
      },
      "source": [
        "### Pie charts"
      ]
    },
    {
      "cell_type": "code",
      "metadata": {
        "id": "BrIpRUGMG88x",
        "colab_type": "code",
        "colab": {}
      },
      "source": [
        "gt01 = df['data1'] > 0.1\n",
        "piecounts = gt01.value_counts()\n",
        "piecounts"
      ],
      "execution_count": 0,
      "outputs": []
    },
    {
      "cell_type": "code",
      "metadata": {
        "id": "5A4Kb0r0G88z",
        "colab_type": "code",
        "colab": {}
      },
      "source": [
        "piecounts.plot(kind='pie',\n",
        "               figsize=(5, 5),\n",
        "               explode=[0, 0.15],\n",
        "               labels=['<= 0.1', '> 0.1'],\n",
        "               autopct='%1.1f%%',\n",
        "               shadow=True,\n",
        "               startangle=90,\n",
        "               fontsize=16)"
      ],
      "execution_count": 0,
      "outputs": []
    },
    {
      "cell_type": "markdown",
      "metadata": {
        "id": "a19nclWYG885",
        "colab_type": "text"
      },
      "source": [
        "### Hexbin plot"
      ]
    },
    {
      "cell_type": "code",
      "metadata": {
        "collapsed": true,
        "id": "XGgQqAL-G885",
        "colab_type": "code",
        "colab": {}
      },
      "source": [
        "data = np.vstack([np.random.normal((0, 0), 2, size=(1000, 2)),\n",
        "                  np.random.normal((9, 9), 3, size=(2000, 2))])\n",
        "df = pd.DataFrame(data, columns=['x', 'y'])"
      ],
      "execution_count": 0,
      "outputs": []
    },
    {
      "cell_type": "code",
      "metadata": {
        "id": "UqHy649YG886",
        "colab_type": "code",
        "colab": {}
      },
      "source": [
        "df.head()"
      ],
      "execution_count": 0,
      "outputs": []
    },
    {
      "cell_type": "code",
      "metadata": {
        "id": "-gnqwht-G888",
        "colab_type": "code",
        "colab": {}
      },
      "source": [
        "df.plot()"
      ],
      "execution_count": 0,
      "outputs": []
    },
    {
      "cell_type": "code",
      "metadata": {
        "id": "BVYHqwqVG888",
        "colab_type": "code",
        "colab": {}
      },
      "source": [
        "df.plot(kind='kde')"
      ],
      "execution_count": 0,
      "outputs": []
    },
    {
      "cell_type": "code",
      "metadata": {
        "id": "rVR6Z4dmG88-",
        "colab_type": "code",
        "colab": {}
      },
      "source": [
        "df.plot(kind='hexbin', x='x', y='y', bins=100, cmap='rainbow')"
      ],
      "execution_count": 0,
      "outputs": []
    },
    {
      "cell_type": "markdown",
      "metadata": {
        "id": "vx7_8yYtG88_",
        "colab_type": "text"
      },
      "source": [
        "# Unstructured data"
      ]
    },
    {
      "cell_type": "markdown",
      "metadata": {
        "id": "d4jMMSzcG88_",
        "colab_type": "text"
      },
      "source": [
        "### Images"
      ]
    },
    {
      "cell_type": "code",
      "metadata": {
        "collapsed": true,
        "id": "q467BQRvG89A",
        "colab_type": "code",
        "colab": {}
      },
      "source": [
        "from PIL import Image"
      ],
      "execution_count": 0,
      "outputs": []
    },
    {
      "cell_type": "code",
      "metadata": {
        "id": "rnjs7bNZG89B",
        "colab_type": "code",
        "colab": {}
      },
      "source": [
        "img = Image.open('../data/iss.jpg')\n",
        "img"
      ],
      "execution_count": 0,
      "outputs": []
    },
    {
      "cell_type": "code",
      "metadata": {
        "id": "9TocxZ5kG89D",
        "colab_type": "code",
        "colab": {}
      },
      "source": [
        "type(img)"
      ],
      "execution_count": 0,
      "outputs": []
    },
    {
      "cell_type": "code",
      "metadata": {
        "collapsed": true,
        "id": "Qvawhr25G89E",
        "colab_type": "code",
        "colab": {}
      },
      "source": [
        "imgarray = np.asarray(img)"
      ],
      "execution_count": 0,
      "outputs": []
    },
    {
      "cell_type": "code",
      "metadata": {
        "id": "Dpmh4XMMG89I",
        "colab_type": "code",
        "colab": {}
      },
      "source": [
        "type(imgarray)"
      ],
      "execution_count": 0,
      "outputs": []
    },
    {
      "cell_type": "code",
      "metadata": {
        "id": "0wSDtJT8G89K",
        "colab_type": "code",
        "colab": {}
      },
      "source": [
        "imgarray.shape"
      ],
      "execution_count": 0,
      "outputs": []
    },
    {
      "cell_type": "code",
      "metadata": {
        "id": "tbFTz3tgG89L",
        "colab_type": "code",
        "colab": {}
      },
      "source": [
        "imgarray.ravel().shape"
      ],
      "execution_count": 0,
      "outputs": []
    },
    {
      "cell_type": "code",
      "metadata": {
        "id": "nOFOO-CCG89N",
        "colab_type": "code",
        "colab": {}
      },
      "source": [
        "435 * 640 * 3"
      ],
      "execution_count": 0,
      "outputs": []
    },
    {
      "cell_type": "markdown",
      "metadata": {
        "id": "Cb_llPmhG89P",
        "colab_type": "text"
      },
      "source": [
        "### Sound"
      ]
    },
    {
      "cell_type": "code",
      "metadata": {
        "collapsed": true,
        "id": "E9HMsEw3G89Q",
        "colab_type": "code",
        "colab": {}
      },
      "source": [
        "from scipy.io import wavfile"
      ],
      "execution_count": 0,
      "outputs": []
    },
    {
      "cell_type": "code",
      "metadata": {
        "collapsed": true,
        "id": "FRo2p4taG89R",
        "colab_type": "code",
        "colab": {}
      },
      "source": [
        "rate, snd = wavfile.read(filename='../data/sms.wav')"
      ],
      "execution_count": 0,
      "outputs": []
    },
    {
      "cell_type": "code",
      "metadata": {
        "collapsed": true,
        "id": "g9l4WBpCG89S",
        "colab_type": "code",
        "colab": {}
      },
      "source": [
        "from IPython.display import Audio"
      ],
      "execution_count": 0,
      "outputs": []
    },
    {
      "cell_type": "code",
      "metadata": {
        "id": "y4mh9EZyG89T",
        "colab_type": "code",
        "colab": {}
      },
      "source": [
        "Audio(data=snd, rate=rate)"
      ],
      "execution_count": 0,
      "outputs": []
    },
    {
      "cell_type": "code",
      "metadata": {
        "id": "cr_m8KPkG89Y",
        "colab_type": "code",
        "colab": {}
      },
      "source": [
        "len(snd)"
      ],
      "execution_count": 0,
      "outputs": []
    },
    {
      "cell_type": "code",
      "metadata": {
        "id": "mp2dP-odG89a",
        "colab_type": "code",
        "colab": {}
      },
      "source": [
        "snd"
      ],
      "execution_count": 0,
      "outputs": []
    },
    {
      "cell_type": "code",
      "metadata": {
        "id": "lHnjCw9qG89b",
        "colab_type": "code",
        "colab": {}
      },
      "source": [
        "plt.plot(snd)"
      ],
      "execution_count": 0,
      "outputs": []
    },
    {
      "cell_type": "code",
      "metadata": {
        "id": "DmlYYpyyG89d",
        "colab_type": "code",
        "colab": {}
      },
      "source": [
        "_ = plt.specgram(snd, NFFT=1024, Fs=44100)\n",
        "plt.ylabel('Frequency (Hz)')\n",
        "plt.xlabel('Time (s)')"
      ],
      "execution_count": 0,
      "outputs": []
    },
    {
      "cell_type": "markdown",
      "metadata": {
        "id": "toA7ynFjG89e",
        "colab_type": "text"
      },
      "source": [
        "# Data Exploration Exercises"
      ]
    },
    {
      "cell_type": "markdown",
      "metadata": {
        "id": "XvRMY7tpG89e",
        "colab_type": "text"
      },
      "source": [
        "## Exercise 1\n",
        "- load the dataset: `../data/international-airline-passengers.csv`\n",
        "- inspect it using the `.info()` and `.head()` commands\n",
        "- use the function [`pd.to_datetime()`](http://pandas.pydata.org/pandas-docs/version/0.20/generated/pandas.to_datetime.html) to change the column type of 'Month' to a datatime type\n",
        "- set the index of df to be a datetime index using the column 'Month' and the `df.set_index()` method\n",
        "- choose the appropriate plot and display the data\n",
        "- choose appropriate scale\n",
        "- label the axes"
      ]
    },
    {
      "cell_type": "code",
      "metadata": {
        "id": "Q2FKGnNIG89f",
        "colab_type": "code",
        "colab": {}
      },
      "source": [
        ""
      ],
      "execution_count": 0,
      "outputs": []
    },
    {
      "cell_type": "markdown",
      "metadata": {
        "id": "41c4ir3vG89h",
        "colab_type": "text"
      },
      "source": [
        "## Exercise 2\n",
        "- load the dataset: `../data/weight-height.csv`\n",
        "- inspect it\n",
        "- plot it using a scatter plot with Weight as a function of Height\n",
        "- plot the male and female populations with 2 different colors on a new scatter plot\n",
        "- remember to label the axes"
      ]
    },
    {
      "cell_type": "code",
      "metadata": {
        "id": "jXaKA385G89h",
        "colab_type": "code",
        "colab": {}
      },
      "source": [
        ""
      ],
      "execution_count": 0,
      "outputs": []
    },
    {
      "cell_type": "markdown",
      "metadata": {
        "id": "PPNa21g4G89i",
        "colab_type": "text"
      },
      "source": [
        "## Exercise 3\n",
        "- plot the histogram of the heights for males and for females on the same plot\n",
        "- use alpha to control transparency in the plot comand\n",
        "- plot a vertical line at the mean of each population using `plt.axvline()`"
      ]
    },
    {
      "cell_type": "code",
      "metadata": {
        "id": "qu2yQDVuG89k",
        "colab_type": "code",
        "colab": {}
      },
      "source": [
        ""
      ],
      "execution_count": 0,
      "outputs": []
    },
    {
      "cell_type": "markdown",
      "metadata": {
        "id": "gwqv8vvNG89o",
        "colab_type": "text"
      },
      "source": [
        "## Exercise 4\n",
        "- plot the weights of the males and females using a box plot\n",
        "- which one is easier to read?\n",
        "- (remember to put in titles, axes and legends)"
      ]
    },
    {
      "cell_type": "code",
      "metadata": {
        "id": "fOxGrbHWG89o",
        "colab_type": "code",
        "colab": {}
      },
      "source": [
        ""
      ],
      "execution_count": 0,
      "outputs": []
    },
    {
      "cell_type": "markdown",
      "metadata": {
        "id": "_eyYuNVmG89p",
        "colab_type": "text"
      },
      "source": [
        "## Exercise 5\n",
        "- load the dataset: `../data/titanic-train.csv`\n",
        "- learn about scattermatrix here: http://pandas.pydata.org/pandas-docs/stable/visualization.html\n",
        "- display the data using a scattermatrix"
      ]
    },
    {
      "cell_type": "code",
      "metadata": {
        "id": "WbaGDmLPG89q",
        "colab_type": "code",
        "colab": {}
      },
      "source": [
        ""
      ],
      "execution_count": 0,
      "outputs": []
    }
  ]
}